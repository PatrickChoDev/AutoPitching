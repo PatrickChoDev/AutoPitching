{
 "cells": [
  {
   "cell_type": "code",
   "execution_count": 1,
   "metadata": {},
   "outputs": [],
   "source": [
    "from src.data.dataset import SoundDS\n",
    "sd= SoundDS('')\n",
    "# sd.load('/home/patrick/Workspace/Projects/SHT7/AutoPitching/data/evil/Krung Thon Buri Frontage Rd. 2.m4a', 1)"
   ]
  },
  {
   "cell_type": "code",
   "execution_count": 2,
   "metadata": {},
   "outputs": [],
   "source": [
    "sd.add('/home/patrick/Workspace/Projects/SHT7/AutoPitching/data/evil', 1)"
   ]
  },
  {
   "cell_type": "code",
   "execution_count": 3,
   "metadata": {},
   "outputs": [],
   "source": [
    "sd.add('/home/patrick/Workspace/Projects/SHT7/AutoPitching/data/heaven', 0)"
   ]
  },
  {
   "cell_type": "code",
   "execution_count": 4,
   "metadata": {},
   "outputs": [
    {
     "data": {
      "text/plain": [
       "34201600"
      ]
     },
     "execution_count": 4,
     "metadata": {},
     "output_type": "execute_result"
    }
   ],
   "source": [
    "len(sd)"
   ]
  },
  {
   "cell_type": "code",
   "execution_count": 5,
   "metadata": {},
   "outputs": [],
   "source": [
    "from src.helper.train import train\n",
    "from src.helper.inference import validate\n",
    "import torch\n",
    "train_set, valid_set = torch.utils.data.random_split(sd, [int(len(sd)*0.8), len(sd)-int(len(sd)*0.8)])\n",
    "train_loader = torch.utils.data.DataLoader(train_set, batch_size=8, shuffle=True)\n",
    "valid_loader = torch.utils.data.DataLoader(valid_set, batch_size=8, shuffle=False)"
   ]
  },
  {
   "cell_type": "code",
   "execution_count": 6,
   "metadata": {},
   "outputs": [],
   "source": [
    "\n",
    "from src.model.head import RawHead\n",
    "model =  RawHead(80,8,1)\n",
    "optim = torch.optim.Adam(model.parameters(), lr=1e-3)\n",
    "scheduler = torch.optim.lr_scheduler.ReduceLROnPlateau(optim, patience=5, factor=0.5, verbose=True)\n",
    "device = 'cuda:0' if torch.cuda.is_available() else 'cpu'\n",
    "device = 'cpu'"
   ]
  },
  {
   "cell_type": "code",
   "execution_count": 7,
   "metadata": {},
   "outputs": [
    {
     "name": "stdout",
     "output_type": "stream",
     "text": [
      "Epoch 1\n"
     ]
    },
    {
     "ename": "",
     "evalue": "",
     "output_type": "error",
     "traceback": [
      "\u001b[1;31mCannot execute code, session has been disposed. Please try restarting the Kernel."
     ]
    },
    {
     "ename": "",
     "evalue": "",
     "output_type": "error",
     "traceback": [
      "\u001b[1;31mThe Kernel crashed while executing code in the the current cell or a previous cell. Please review the code in the cell(s) to identify a possible cause of the failure. Click <a href='https://aka.ms/vscodeJupyterKernelCrash'>here</a> for more info. View Jupyter <a href='command:jupyter.viewOutput'>log</a> for further details."
     ]
    }
   ],
   "source": [
    "model.train()\n",
    "model.to(device)\n",
    "total_loss = 0\n",
    "accum_size = 1\n",
    "start_epoch = 1\n",
    "num_epoch = 3\n",
    "\n",
    "for epoch in range(start_epoch, num_epoch + 1):\n",
    "  print(f'Epoch {epoch}')\n",
    "  for data, target in train_loader:\n",
    "      print(data.shape)\n",
    "      data, target = data.to(device), target.to(device)\n",
    "      print(data.shape)\n",
    "      optim.zero_grad()\n",
    "      output = model(data)\n",
    "      print(output)\n",
    "      loss = torch.nn.functional.cross_entropy(output,target) / accum_size\n",
    "      total_loss += loss.item() * accum_size\n",
    "      loss.backward(retain_graph=True)\n",
    "      optim.step()\n",
    "      print(f'Loss {loss.item()}',end=\"\\r\")\n",
    "  print('Total Loss', total_loss)\n",
    "  if scheduler: scheduler.step()"
   ]
  },
  {
   "cell_type": "code",
   "execution_count": null,
   "metadata": {},
   "outputs": [],
   "source": []
  }
 ],
 "metadata": {
  "kernelspec": {
   "display_name": "venv",
   "language": "python",
   "name": "python3"
  },
  "language_info": {
   "codemirror_mode": {
    "name": "ipython",
    "version": 3
   },
   "file_extension": ".py",
   "mimetype": "text/x-python",
   "name": "python",
   "nbconvert_exporter": "python",
   "pygments_lexer": "ipython3",
   "version": "3.9.17"
  },
  "orig_nbformat": 4
 },
 "nbformat": 4,
 "nbformat_minor": 2
}
